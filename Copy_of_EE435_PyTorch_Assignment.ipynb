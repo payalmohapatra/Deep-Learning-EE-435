{
  "nbformat": 4,
  "nbformat_minor": 0,
  "metadata": {
    "kernelspec": {
      "display_name": "Python 3",
      "language": "python",
      "name": "python3"
    },
    "language_info": {
      "codemirror_mode": {
        "name": "ipython",
        "version": 3
      },
      "file_extension": ".py",
      "mimetype": "text/x-python",
      "name": "python",
      "nbconvert_exporter": "python",
      "pygments_lexer": "ipython3",
      "version": "3.8.5"
    },
    "colab": {
      "name": "Copy of EE435_PyTorch_Assignment.ipynb",
      "provenance": [],
      "collapsed_sections": []
    },
    "widgets": {
      "application/vnd.jupyter.widget-state+json": {
        "9b97f3c43d314720b76d2cb4c29fde9a": {
          "model_module": "@jupyter-widgets/controls",
          "model_name": "HBoxModel",
          "model_module_version": "1.5.0",
          "state": {
            "_view_name": "HBoxView",
            "_dom_classes": [],
            "_model_name": "HBoxModel",
            "_view_module": "@jupyter-widgets/controls",
            "_model_module_version": "1.5.0",
            "_view_count": null,
            "_view_module_version": "1.5.0",
            "box_style": "",
            "layout": "IPY_MODEL_7fc86b61532e4eb9aa7b1ab40245874b",
            "_model_module": "@jupyter-widgets/controls",
            "children": [
              "IPY_MODEL_ca969491f12d4140b550e9b8994e0855",
              "IPY_MODEL_79157b0196574facb25da350a5e42159",
              "IPY_MODEL_1ed52aa85e5445658c08c569ad82e179"
            ]
          }
        },
        "7fc86b61532e4eb9aa7b1ab40245874b": {
          "model_module": "@jupyter-widgets/base",
          "model_name": "LayoutModel",
          "model_module_version": "1.2.0",
          "state": {
            "_view_name": "LayoutView",
            "grid_template_rows": null,
            "right": null,
            "justify_content": null,
            "_view_module": "@jupyter-widgets/base",
            "overflow": null,
            "_model_module_version": "1.2.0",
            "_view_count": null,
            "flex_flow": null,
            "width": null,
            "min_width": null,
            "border": null,
            "align_items": null,
            "bottom": null,
            "_model_module": "@jupyter-widgets/base",
            "top": null,
            "grid_column": null,
            "overflow_y": null,
            "overflow_x": null,
            "grid_auto_flow": null,
            "grid_area": null,
            "grid_template_columns": null,
            "flex": null,
            "_model_name": "LayoutModel",
            "justify_items": null,
            "grid_row": null,
            "max_height": null,
            "align_content": null,
            "visibility": null,
            "align_self": null,
            "height": null,
            "min_height": null,
            "padding": null,
            "grid_auto_rows": null,
            "grid_gap": null,
            "max_width": null,
            "order": null,
            "_view_module_version": "1.2.0",
            "grid_template_areas": null,
            "object_position": null,
            "object_fit": null,
            "grid_auto_columns": null,
            "margin": null,
            "display": null,
            "left": null
          }
        },
        "ca969491f12d4140b550e9b8994e0855": {
          "model_module": "@jupyter-widgets/controls",
          "model_name": "HTMLModel",
          "model_module_version": "1.5.0",
          "state": {
            "_view_name": "HTMLView",
            "style": "IPY_MODEL_be91f6ab97f0408abd0bd4b74c5a5a03",
            "_dom_classes": [],
            "description": "",
            "_model_name": "HTMLModel",
            "placeholder": "​",
            "_view_module": "@jupyter-widgets/controls",
            "_model_module_version": "1.5.0",
            "value": "",
            "_view_count": null,
            "_view_module_version": "1.5.0",
            "description_tooltip": null,
            "_model_module": "@jupyter-widgets/controls",
            "layout": "IPY_MODEL_c5340d14fa524373a956975e58e31e5f"
          }
        },
        "79157b0196574facb25da350a5e42159": {
          "model_module": "@jupyter-widgets/controls",
          "model_name": "FloatProgressModel",
          "model_module_version": "1.5.0",
          "state": {
            "_view_name": "ProgressView",
            "style": "IPY_MODEL_ee9c5940379f41eab5b3bd95407a09ee",
            "_dom_classes": [],
            "description": "",
            "_model_name": "FloatProgressModel",
            "bar_style": "success",
            "max": 170498071,
            "_view_module": "@jupyter-widgets/controls",
            "_model_module_version": "1.5.0",
            "value": 170498071,
            "_view_count": null,
            "_view_module_version": "1.5.0",
            "orientation": "horizontal",
            "min": 0,
            "description_tooltip": null,
            "_model_module": "@jupyter-widgets/controls",
            "layout": "IPY_MODEL_4ae5a8ed9b6d4bcc858e30b0b007224f"
          }
        },
        "1ed52aa85e5445658c08c569ad82e179": {
          "model_module": "@jupyter-widgets/controls",
          "model_name": "HTMLModel",
          "model_module_version": "1.5.0",
          "state": {
            "_view_name": "HTMLView",
            "style": "IPY_MODEL_b9ddfa74ea764cdabad99f6692e252e3",
            "_dom_classes": [],
            "description": "",
            "_model_name": "HTMLModel",
            "placeholder": "​",
            "_view_module": "@jupyter-widgets/controls",
            "_model_module_version": "1.5.0",
            "value": " 170499072/? [00:05&lt;00:00, 30763548.92it/s]",
            "_view_count": null,
            "_view_module_version": "1.5.0",
            "description_tooltip": null,
            "_model_module": "@jupyter-widgets/controls",
            "layout": "IPY_MODEL_d4af089cd76f40bba232f5850ef1d3a4"
          }
        },
        "be91f6ab97f0408abd0bd4b74c5a5a03": {
          "model_module": "@jupyter-widgets/controls",
          "model_name": "DescriptionStyleModel",
          "model_module_version": "1.5.0",
          "state": {
            "_view_name": "StyleView",
            "_model_name": "DescriptionStyleModel",
            "description_width": "",
            "_view_module": "@jupyter-widgets/base",
            "_model_module_version": "1.5.0",
            "_view_count": null,
            "_view_module_version": "1.2.0",
            "_model_module": "@jupyter-widgets/controls"
          }
        },
        "c5340d14fa524373a956975e58e31e5f": {
          "model_module": "@jupyter-widgets/base",
          "model_name": "LayoutModel",
          "model_module_version": "1.2.0",
          "state": {
            "_view_name": "LayoutView",
            "grid_template_rows": null,
            "right": null,
            "justify_content": null,
            "_view_module": "@jupyter-widgets/base",
            "overflow": null,
            "_model_module_version": "1.2.0",
            "_view_count": null,
            "flex_flow": null,
            "width": null,
            "min_width": null,
            "border": null,
            "align_items": null,
            "bottom": null,
            "_model_module": "@jupyter-widgets/base",
            "top": null,
            "grid_column": null,
            "overflow_y": null,
            "overflow_x": null,
            "grid_auto_flow": null,
            "grid_area": null,
            "grid_template_columns": null,
            "flex": null,
            "_model_name": "LayoutModel",
            "justify_items": null,
            "grid_row": null,
            "max_height": null,
            "align_content": null,
            "visibility": null,
            "align_self": null,
            "height": null,
            "min_height": null,
            "padding": null,
            "grid_auto_rows": null,
            "grid_gap": null,
            "max_width": null,
            "order": null,
            "_view_module_version": "1.2.0",
            "grid_template_areas": null,
            "object_position": null,
            "object_fit": null,
            "grid_auto_columns": null,
            "margin": null,
            "display": null,
            "left": null
          }
        },
        "ee9c5940379f41eab5b3bd95407a09ee": {
          "model_module": "@jupyter-widgets/controls",
          "model_name": "ProgressStyleModel",
          "model_module_version": "1.5.0",
          "state": {
            "_view_name": "StyleView",
            "_model_name": "ProgressStyleModel",
            "description_width": "",
            "_view_module": "@jupyter-widgets/base",
            "_model_module_version": "1.5.0",
            "_view_count": null,
            "_view_module_version": "1.2.0",
            "bar_color": null,
            "_model_module": "@jupyter-widgets/controls"
          }
        },
        "4ae5a8ed9b6d4bcc858e30b0b007224f": {
          "model_module": "@jupyter-widgets/base",
          "model_name": "LayoutModel",
          "model_module_version": "1.2.0",
          "state": {
            "_view_name": "LayoutView",
            "grid_template_rows": null,
            "right": null,
            "justify_content": null,
            "_view_module": "@jupyter-widgets/base",
            "overflow": null,
            "_model_module_version": "1.2.0",
            "_view_count": null,
            "flex_flow": null,
            "width": null,
            "min_width": null,
            "border": null,
            "align_items": null,
            "bottom": null,
            "_model_module": "@jupyter-widgets/base",
            "top": null,
            "grid_column": null,
            "overflow_y": null,
            "overflow_x": null,
            "grid_auto_flow": null,
            "grid_area": null,
            "grid_template_columns": null,
            "flex": null,
            "_model_name": "LayoutModel",
            "justify_items": null,
            "grid_row": null,
            "max_height": null,
            "align_content": null,
            "visibility": null,
            "align_self": null,
            "height": null,
            "min_height": null,
            "padding": null,
            "grid_auto_rows": null,
            "grid_gap": null,
            "max_width": null,
            "order": null,
            "_view_module_version": "1.2.0",
            "grid_template_areas": null,
            "object_position": null,
            "object_fit": null,
            "grid_auto_columns": null,
            "margin": null,
            "display": null,
            "left": null
          }
        },
        "b9ddfa74ea764cdabad99f6692e252e3": {
          "model_module": "@jupyter-widgets/controls",
          "model_name": "DescriptionStyleModel",
          "model_module_version": "1.5.0",
          "state": {
            "_view_name": "StyleView",
            "_model_name": "DescriptionStyleModel",
            "description_width": "",
            "_view_module": "@jupyter-widgets/base",
            "_model_module_version": "1.5.0",
            "_view_count": null,
            "_view_module_version": "1.2.0",
            "_model_module": "@jupyter-widgets/controls"
          }
        },
        "d4af089cd76f40bba232f5850ef1d3a4": {
          "model_module": "@jupyter-widgets/base",
          "model_name": "LayoutModel",
          "model_module_version": "1.2.0",
          "state": {
            "_view_name": "LayoutView",
            "grid_template_rows": null,
            "right": null,
            "justify_content": null,
            "_view_module": "@jupyter-widgets/base",
            "overflow": null,
            "_model_module_version": "1.2.0",
            "_view_count": null,
            "flex_flow": null,
            "width": null,
            "min_width": null,
            "border": null,
            "align_items": null,
            "bottom": null,
            "_model_module": "@jupyter-widgets/base",
            "top": null,
            "grid_column": null,
            "overflow_y": null,
            "overflow_x": null,
            "grid_auto_flow": null,
            "grid_area": null,
            "grid_template_columns": null,
            "flex": null,
            "_model_name": "LayoutModel",
            "justify_items": null,
            "grid_row": null,
            "max_height": null,
            "align_content": null,
            "visibility": null,
            "align_self": null,
            "height": null,
            "min_height": null,
            "padding": null,
            "grid_auto_rows": null,
            "grid_gap": null,
            "max_width": null,
            "order": null,
            "_view_module_version": "1.2.0",
            "grid_template_areas": null,
            "object_position": null,
            "object_fit": null,
            "grid_auto_columns": null,
            "margin": null,
            "display": null,
            "left": null
          }
        }
      }
    },
    "accelerator": "GPU"
  },
  "cells": [
    {
      "cell_type": "markdown",
      "metadata": {
        "id": "tOJS4unEuwiJ"
      },
      "source": [
        "# Coding CNNs from Scratch with Pytorch"
      ]
    },
    {
      "cell_type": "markdown",
      "metadata": {
        "id": "iAglL7KZu3ge"
      },
      "source": [
        "In this assignment you will code a famous CNN architecture AlexNet (https://papers.nips.cc/paper/2012/hash/c399862d3b9d6b76c8436e924a68c45b-Abstract.html) to classify images from the CIFAR10 dataset (https://www.cs.toronto.edu/~kriz/cifar.html), which consists of 10 classes of natural images such as vehicles or animals. AlexNet is a landmark architecture because it was one of the first extremely deep CNNs trained on GPUs, and achieved state-of-the-art performance in the ImageNet challenge in 2012. \n"
      ]
    },
    {
      "cell_type": "markdown",
      "metadata": {
        "id": "nv77OEtlxuP8"
      },
      "source": [
        "A lot of code will already be written to familiarize yourself with PyTorch, but you will have to fill in parts that will apply your knowledge of CNNs. Additionally, there are some numbered questions that you must answer either in a separate document, or in this notebook. Some questions may require you to do a little research. To type in the notebook, you can insert a text cell. "
      ]
    },
    {
      "cell_type": "markdown",
      "metadata": {
        "id": "dr5aNOagwwm5"
      },
      "source": [
        "Let's start by installing PyTorch and the torchvision package below. Due to the size of the network, you will have to run on a GPU. So, click on the Runtime dropdown, then Change Runtime Type, then GPU for the hardware accelerator. "
      ]
    },
    {
      "cell_type": "code",
      "metadata": {
        "id": "HXnfRg4IulGd",
        "colab": {
          "base_uri": "https://localhost:8080/",
          "height": 0
        },
        "outputId": "a949c9e9-ee73-40b3-a997-485b1739a1fb"
      },
      "source": [
        "!pip install pytorch\n",
        "!pip install torchvision\n",
        "!pip install numpy\n",
        "!pip install torchsummary\n",
        "!pip install torch torchvision\n",
        "!pip install matplotlib"
      ],
      "execution_count": 1,
      "outputs": [
        {
          "output_type": "stream",
          "name": "stdout",
          "text": [
            "Collecting pytorch\n",
            "  Downloading pytorch-1.0.2.tar.gz (689 bytes)\n",
            "Building wheels for collected packages: pytorch\n",
            "  Building wheel for pytorch (setup.py) ... \u001b[?25lerror\n",
            "\u001b[31m  ERROR: Failed building wheel for pytorch\u001b[0m\n",
            "\u001b[?25h  Running setup.py clean for pytorch\n",
            "Failed to build pytorch\n",
            "Installing collected packages: pytorch\n",
            "    Running setup.py install for pytorch ... \u001b[?25l\u001b[?25herror\n",
            "\u001b[31mERROR: Command errored out with exit status 1: /usr/bin/python3 -u -c 'import io, os, sys, setuptools, tokenize; sys.argv[0] = '\"'\"'/tmp/pip-install-ahs9hjp4/pytorch_16fa6515a90e4fcdad1c72ff86b25cdc/setup.py'\"'\"'; __file__='\"'\"'/tmp/pip-install-ahs9hjp4/pytorch_16fa6515a90e4fcdad1c72ff86b25cdc/setup.py'\"'\"';f = getattr(tokenize, '\"'\"'open'\"'\"', open)(__file__) if os.path.exists(__file__) else io.StringIO('\"'\"'from setuptools import setup; setup()'\"'\"');code = f.read().replace('\"'\"'\\r\\n'\"'\"', '\"'\"'\\n'\"'\"');f.close();exec(compile(code, __file__, '\"'\"'exec'\"'\"'))' install --record /tmp/pip-record-7lj6h8bq/install-record.txt --single-version-externally-managed --compile --install-headers /usr/local/include/python3.7/pytorch Check the logs for full command output.\u001b[0m\n",
            "Requirement already satisfied: torchvision in /usr/local/lib/python3.7/dist-packages (0.11.1+cu111)\n",
            "Requirement already satisfied: torch==1.10.0 in /usr/local/lib/python3.7/dist-packages (from torchvision) (1.10.0+cu111)\n",
            "Requirement already satisfied: pillow!=8.3.0,>=5.3.0 in /usr/local/lib/python3.7/dist-packages (from torchvision) (7.1.2)\n",
            "Requirement already satisfied: numpy in /usr/local/lib/python3.7/dist-packages (from torchvision) (1.21.5)\n",
            "Requirement already satisfied: typing-extensions in /usr/local/lib/python3.7/dist-packages (from torch==1.10.0->torchvision) (3.10.0.2)\n",
            "Requirement already satisfied: numpy in /usr/local/lib/python3.7/dist-packages (1.21.5)\n",
            "Requirement already satisfied: torchsummary in /usr/local/lib/python3.7/dist-packages (1.5.1)\n",
            "Requirement already satisfied: torch in /usr/local/lib/python3.7/dist-packages (1.10.0+cu111)\n",
            "Requirement already satisfied: torchvision in /usr/local/lib/python3.7/dist-packages (0.11.1+cu111)\n",
            "Requirement already satisfied: typing-extensions in /usr/local/lib/python3.7/dist-packages (from torch) (3.10.0.2)\n",
            "Requirement already satisfied: numpy in /usr/local/lib/python3.7/dist-packages (from torchvision) (1.21.5)\n",
            "Requirement already satisfied: pillow!=8.3.0,>=5.3.0 in /usr/local/lib/python3.7/dist-packages (from torchvision) (7.1.2)\n",
            "Requirement already satisfied: matplotlib in /usr/local/lib/python3.7/dist-packages (3.2.2)\n",
            "Requirement already satisfied: kiwisolver>=1.0.1 in /usr/local/lib/python3.7/dist-packages (from matplotlib) (1.3.2)\n",
            "Requirement already satisfied: python-dateutil>=2.1 in /usr/local/lib/python3.7/dist-packages (from matplotlib) (2.8.2)\n",
            "Requirement already satisfied: pyparsing!=2.0.4,!=2.1.2,!=2.1.6,>=2.0.1 in /usr/local/lib/python3.7/dist-packages (from matplotlib) (3.0.7)\n",
            "Requirement already satisfied: numpy>=1.11 in /usr/local/lib/python3.7/dist-packages (from matplotlib) (1.21.5)\n",
            "Requirement already satisfied: cycler>=0.10 in /usr/local/lib/python3.7/dist-packages (from matplotlib) (0.11.0)\n",
            "Requirement already satisfied: six>=1.5 in /usr/local/lib/python3.7/dist-packages (from python-dateutil>=2.1->matplotlib) (1.15.0)\n"
          ]
        }
      ]
    },
    {
      "cell_type": "code",
      "metadata": {
        "id": "VtC0KJcdufBE",
        "colab": {
          "base_uri": "https://localhost:8080/",
          "height": 0
        },
        "outputId": "d783d38a-b1d0-4b68-bf99-70798932d1e4"
      },
      "source": [
        "import torch\n",
        "import torch.nn as nn\n",
        "import matplotlib.pyplot as plt\n",
        "import numpy as np\n",
        "from torchsummary import summary\n",
        "from torch.utils.tensorboard import SummaryWriter\n",
        "writer = SummaryWriter()\n",
        "\n",
        "\n",
        "device = torch.device('cuda')\n",
        "    \n",
        "print(device)\n"
      ],
      "execution_count": 2,
      "outputs": [
        {
          "output_type": "stream",
          "name": "stdout",
          "text": [
            "cuda\n"
          ]
        }
      ]
    },
    {
      "cell_type": "markdown",
      "metadata": {
        "id": "5DML-S0AX-_o"
      },
      "source": [
        "### 1. In the following cell, we are employing something called \"data augmentation\" with random horizontal and vertical flips. So when training data is fed into the network, it is ranadomly transformed. What are advantages of this?\n",
        "It allows learning the same image from different dimensions allowing the algorithm to be more robust in learning the features. It also increases the input sample size which can help reduce variance since it lets the model be more general.\n",
        "\n",
        "### 2. We normalize with the line transforms.Normalize((0.5,), (0.5,)). What are the benefits of normalizing data? \n",
        "Features across different input examples wil have a large variance due to the underlying systems that generate them. This can skew the learning, hence we normalise to make sure all the features are in the same range. This transforms our data distribution to a sphere, centred at the mean.\n",
        "\n"
      ]
    },
    {
      "cell_type": "code",
      "metadata": {
        "id": "eruiC4sAufBL",
        "colab": {
          "base_uri": "https://localhost:8080/",
          "height": 136,
          "referenced_widgets": [
            "9b97f3c43d314720b76d2cb4c29fde9a",
            "7fc86b61532e4eb9aa7b1ab40245874b",
            "ca969491f12d4140b550e9b8994e0855",
            "79157b0196574facb25da350a5e42159",
            "1ed52aa85e5445658c08c569ad82e179",
            "be91f6ab97f0408abd0bd4b74c5a5a03",
            "c5340d14fa524373a956975e58e31e5f",
            "ee9c5940379f41eab5b3bd95407a09ee",
            "4ae5a8ed9b6d4bcc858e30b0b007224f",
            "b9ddfa74ea764cdabad99f6692e252e3",
            "d4af089cd76f40bba232f5850ef1d3a4"
          ]
        },
        "outputId": "1086cc31-4ba6-47c3-f704-47225df11381"
      },
      "source": [
        "import torchvision\n",
        "import torchvision.transforms as transforms\n",
        "from torch.utils.data import random_split\n",
        "from math import ceil\n",
        "\n",
        "BATCH_SIZE = 100\n",
        "\n",
        "\n",
        "transform = transforms.Compose(\n",
        "    [transforms.ToTensor(),\n",
        "     transforms.RandomHorizontalFlip(p=0.5), \n",
        "     transforms.RandomVerticalFlip(p=0.5),\n",
        "     transforms.Normalize((0.5,), (0.5,))])\n",
        "\n",
        "trainset = torchvision.datasets.CIFAR10(root='./data', train=True,\n",
        "                                        download=True, transform=transform)\n",
        "\n",
        "testset = torchvision.datasets.CIFAR10(root='./data', train=False,\n",
        "                                       download=True, transform=transform)\n",
        "\n",
        "torch.manual_seed(43)\n",
        "val_size = 10000\n",
        "train_size = len(trainset) - val_size\n",
        "\n",
        "\n",
        "train_ds, val_ds = random_split(trainset, [train_size, val_size])\n",
        "print(len(train_ds), len(val_ds))\n",
        "\n",
        "\n",
        "classes = ('plane', 'car', 'bird', 'cat',\n",
        "           'deer', 'dog', 'frog', 'horse', 'ship', 'truck')\n",
        "\n",
        "num_steps =  ceil(len(train_ds) / BATCH_SIZE)\n",
        "num_steps"
      ],
      "execution_count": 3,
      "outputs": [
        {
          "output_type": "stream",
          "name": "stdout",
          "text": [
            "Downloading https://www.cs.toronto.edu/~kriz/cifar-10-python.tar.gz to ./data/cifar-10-python.tar.gz\n"
          ]
        },
        {
          "output_type": "display_data",
          "data": {
            "application/vnd.jupyter.widget-view+json": {
              "model_id": "9b97f3c43d314720b76d2cb4c29fde9a",
              "version_minor": 0,
              "version_major": 2
            },
            "text/plain": [
              "  0%|          | 0/170498071 [00:00<?, ?it/s]"
            ]
          },
          "metadata": {}
        },
        {
          "output_type": "stream",
          "name": "stdout",
          "text": [
            "Extracting ./data/cifar-10-python.tar.gz to ./data\n",
            "Files already downloaded and verified\n",
            "40000 10000\n"
          ]
        },
        {
          "output_type": "execute_result",
          "data": {
            "text/plain": [
              "400"
            ]
          },
          "metadata": {},
          "execution_count": 3
        }
      ]
    },
    {
      "cell_type": "code",
      "metadata": {
        "id": "NLzuKuJxufBM"
      },
      "source": [
        "train_loader = torch.utils.data.DataLoader(train_ds, BATCH_SIZE, shuffle=True, drop_last = True)\n",
        "val_loader = torch.utils.data.DataLoader(val_ds, BATCH_SIZE)\n",
        "test_loader = torch.utils.data.DataLoader(testset, BATCH_SIZE)"
      ],
      "execution_count": 4,
      "outputs": []
    },
    {
      "cell_type": "markdown",
      "metadata": {
        "id": "7rT3aDd7aVLm"
      },
      "source": [
        "You can insert an integer  into the code trainset[#insert integer] to visualize images from the training set. Some of the images might look weird because they have been randomly flipped according to our data augmentation scheme. "
      ]
    },
    {
      "cell_type": "code",
      "metadata": {
        "colab": {
          "base_uri": "https://localhost:8080/",
          "height": 301
        },
        "id": "wV-W2b6eZaoG",
        "outputId": "628a1cc3-8b26-403b-caa2-c47c7a6afd28"
      },
      "source": [
        "img, label = trainset[1000]\n",
        "plt.imshow((img.permute((1, 2, 0))+1)/2)\n",
        "print('Label (numeric):', label)\n",
        "print('Label (textual):', classes[label])"
      ],
      "execution_count": 5,
      "outputs": [
        {
          "output_type": "stream",
          "name": "stdout",
          "text": [
            "Label (numeric): 9\n",
            "Label (textual): truck\n"
          ]
        },
        {
          "output_type": "display_data",
          "data": {
            "image/png": "[encoded data removed]",
            "text/plain": [
              "<Figure size 432x288 with 1 Axes>"
            ]
          },
          "metadata": {
            "needs_background": "light"
          }
        }
      ]
    },
    {
      "cell_type": "markdown",
      "metadata": {
        "id": "wVLQM7ODamEm"
      },
      "source": [
        "Now comes the fun part. You will have to put in the correct parameters into different torch.nn functions in order to convolve and downsample the image into the correct dimensionality for classification. Think of it as a puzzle. You will insert the parameters where there is a comment #TODO. "
      ]
    },
    {
      "cell_type": "code",
      "source": [
        "print(img.size())"
      ],
      "metadata": {
        "colab": {
          "base_uri": "https://localhost:8080/",
          "height": 0
        },
        "id": "JDPjoMdXBtDs",
        "outputId": "1a410d73-a21c-4aa9-872d-0de04b6b51dd"
      },
      "execution_count": 6,
      "outputs": [
        {
          "output_type": "stream",
          "name": "stdout",
          "text": [
            "torch.Size([3, 32, 32])\n"
          ]
        }
      ]
    },
    {
      "cell_type": "code",
      "metadata": {
        "id": "ohY_5zoBufBN"
      },
      "source": [
        "# in_channels : Number of inputs\n",
        "# out_channels : number of kernels basically\n",
        "# FIXME :: Where do we input input size??\n",
        "class Discriminator(torch.nn.Module):\n",
        "\n",
        "    def __init__(self):\n",
        "        super(Discriminator, self).__init__()\n",
        "        self.features = nn.Sequential(\n",
        "            nn.Conv2d(in_channels = 3,\n",
        "                      out_channels = 64,\n",
        "                      kernel_size=3, stride=2, padding=1),\n",
        "            nn.ReLU(inplace=True),\n",
        "            nn.MaxPool2d(kernel_size=2),\n",
        "            nn.Conv2d(64, 192, kernel_size=3, \n",
        "                      padding=1), #FIXME\n",
        "            nn.ReLU(inplace=True),\n",
        "            nn.MaxPool2d(kernel_size=2),\n",
        "            nn.Conv2d(192, \n",
        "                      384,\n",
        "                      kernel_size=3, padding=1),\n",
        "            nn.ReLU(inplace=True),\n",
        "            nn.Conv2d(384, 256, kernel_size=3, padding=1),\n",
        "            nn.ReLU(inplace=True),\n",
        "            nn.Conv2d(256, 256, kernel_size=3, padding=1),\n",
        "            nn.ReLU(inplace=True),\n",
        "            nn.MaxPool2d(kernel_size=2),\n",
        "        )\n",
        "            \n",
        "        #Fully connected layers\n",
        "        self.classifier = nn.Sequential(\n",
        "            nn.Dropout(),\n",
        "            nn.Linear(1024, 4096), # check the input size\n",
        "            nn.ReLU(inplace=True),\n",
        "            nn.Dropout(),\n",
        "            nn.Linear(4096, 4096),\n",
        "            nn.ReLU(inplace=True),\n",
        "            nn.Linear(4096, 10), #FIXME\n",
        "        )\n",
        "\n",
        "    def forward(self, x):\n",
        "        x = self.features(x)\n",
        "        #we must flatten our feature maps before feeding into fully connected layers\n",
        "        x = x.contiguous().view(x.size(0), 1024) # 32*32\n",
        "        x = self.classifier(x)\n",
        "        return x"
      ],
      "execution_count": 7,
      "outputs": []
    },
    {
      "cell_type": "markdown",
      "metadata": {
        "id": "Bw2ZfQfAeZum"
      },
      "source": [
        "Below we are initializing our model with a weight scheme."
      ]
    },
    {
      "cell_type": "code",
      "source": [
        "net = Discriminator()\n",
        "\n",
        "def weights_init(m):\n",
        "\n",
        "    classname = m.__class__.__name__\n",
        "\n",
        "    if classname.find('Conv') != -1:\n",
        "        torch.nn.init.normal_(m.weight.data, 0.0, 0.02)\n",
        "\n",
        "    elif classname.find('BatchNorm') != -1:\n",
        "        torch.nn.init.normal_(m.weight.data, 1.0, 0.02)\n",
        "        torch.nn.init.constant_(m.bias.data, 0)\n",
        "\n",
        "\n",
        "# Initialize Models\n",
        "net = net.to(device)\n",
        "\n",
        "net.apply(weights_init)\n",
        "\n"
      ],
      "metadata": {
        "id": "AlUFRnhZufBN",
        "colab": {
          "base_uri": "https://localhost:8080/",
          "height": 0
        },
        "outputId": "0b8dbcc2-a6ee-4687-b774-610c49c1939d"
      },
      "execution_count": 8,
      "outputs": [
        {
          "output_type": "execute_result",
          "data": {
            "text/plain": [
              "Discriminator(\n",
              "  (features): Sequential(\n",
              "    (0): Conv2d(3, 64, kernel_size=(3, 3), stride=(2, 2), padding=(1, 1))\n",
              "    (1): ReLU(inplace=True)\n",
              "    (2): MaxPool2d(kernel_size=2, stride=2, padding=0, dilation=1, ceil_mode=False)\n",
              "    (3): Conv2d(64, 192, kernel_size=(3, 3), stride=(1, 1), padding=(1, 1))\n",
              "    (4): ReLU(inplace=True)\n",
              "    (5): MaxPool2d(kernel_size=2, stride=2, padding=0, dilation=1, ceil_mode=False)\n",
              "    (6): Conv2d(192, 384, kernel_size=(3, 3), stride=(1, 1), padding=(1, 1))\n",
              "    (7): ReLU(inplace=True)\n",
              "    (8): Conv2d(384, 256, kernel_size=(3, 3), stride=(1, 1), padding=(1, 1))\n",
              "    (9): ReLU(inplace=True)\n",
              "    (10): Conv2d(256, 256, kernel_size=(3, 3), stride=(1, 1), padding=(1, 1))\n",
              "    (11): ReLU(inplace=True)\n",
              "    (12): MaxPool2d(kernel_size=2, stride=2, padding=0, dilation=1, ceil_mode=False)\n",
              "  )\n",
              "  (classifier): Sequential(\n",
              "    (0): Dropout(p=0.5, inplace=False)\n",
              "    (1): Linear(in_features=1024, out_features=4096, bias=True)\n",
              "    (2): ReLU(inplace=True)\n",
              "    (3): Dropout(p=0.5, inplace=False)\n",
              "    (4): Linear(in_features=4096, out_features=4096, bias=True)\n",
              "    (5): ReLU(inplace=True)\n",
              "    (6): Linear(in_features=4096, out_features=10, bias=True)\n",
              "  )\n",
              ")"
            ]
          },
          "metadata": {},
          "execution_count": 8
        }
      ]
    },
    {
      "cell_type": "markdown",
      "metadata": {
        "id": "tFBRnApFfZUr"
      },
      "source": [
        "### 3. Notice above in our network architecture, we have what are called \"Dropout\" layers. What is the point of these?\n",
        "\n",
        "They are meant for regularisation to avoid overfitting."
      ]
    },
    {
      "cell_type": "markdown",
      "metadata": {
        "id": "IqzRwTN-febi"
      },
      "source": [
        "Defining our cost/loss function, which is cross-entropy loss. We also define our optimizer with hyperparameters: learning rate and betas. "
      ]
    },
    {
      "cell_type": "code",
      "metadata": {
        "id": "sNvPJc_PufBN"
      },
      "source": [
        "import torch.optim as optim\n",
        "\n",
        "criterion = torch.nn.CrossEntropyLoss()\n",
        "optimizer = torch.optim.Adam(\n",
        "    net.parameters(),\n",
        "    lr=0.0001,\n",
        "    betas = (0.5, 0.999)\n",
        ")\n",
        "\n"
      ],
      "execution_count": 10,
      "outputs": []
    },
    {
      "cell_type": "markdown",
      "metadata": {
        "id": "JR6xLm7KiR3p"
      },
      "source": [
        "Below we actually train our network. Run for just 10 epochs. It takes some time. Wherever there is the comment #TODO, you must insert code."
      ]
    },
    {
      "cell_type": "code",
      "source": [
        "summary(net, (3, 32, 32))"
      ],
      "metadata": {
        "id": "tqaagHxdGsq-",
        "colab": {
          "base_uri": "https://localhost:8080/",
          "height": 0
        },
        "outputId": "06a7796a-fffb-4f72-a2f2-454c2f7fb92b"
      },
      "execution_count": 11,
      "outputs": [
        {
          "output_type": "stream",
          "name": "stdout",
          "text": [
            "----------------------------------------------------------------\n",
            "        Layer (type)               Output Shape         Param #\n",
            "================================================================\n",
            "            Conv2d-1           [-1, 64, 16, 16]           1,792\n",
            "              ReLU-2           [-1, 64, 16, 16]               0\n",
            "         MaxPool2d-3             [-1, 64, 8, 8]               0\n",
            "            Conv2d-4            [-1, 192, 8, 8]         110,784\n",
            "              ReLU-5            [-1, 192, 8, 8]               0\n",
            "         MaxPool2d-6            [-1, 192, 4, 4]               0\n",
            "            Conv2d-7            [-1, 384, 4, 4]         663,936\n",
            "              ReLU-8            [-1, 384, 4, 4]               0\n",
            "            Conv2d-9            [-1, 256, 4, 4]         884,992\n",
            "             ReLU-10            [-1, 256, 4, 4]               0\n",
            "           Conv2d-11            [-1, 256, 4, 4]         590,080\n",
            "             ReLU-12            [-1, 256, 4, 4]               0\n",
            "        MaxPool2d-13            [-1, 256, 2, 2]               0\n",
            "          Dropout-14                 [-1, 1024]               0\n",
            "           Linear-15                 [-1, 4096]       4,198,400\n",
            "             ReLU-16                 [-1, 4096]               0\n",
            "          Dropout-17                 [-1, 4096]               0\n",
            "           Linear-18                 [-1, 4096]      16,781,312\n",
            "             ReLU-19                 [-1, 4096]               0\n",
            "           Linear-20                   [-1, 10]          40,970\n",
            "================================================================\n",
            "Total params: 23,272,266\n",
            "Trainable params: 23,272,266\n",
            "Non-trainable params: 0\n",
            "----------------------------------------------------------------\n",
            "Input size (MB): 0.01\n",
            "Forward/backward pass size (MB): 0.88\n",
            "Params size (MB): 88.78\n",
            "Estimated Total Size (MB): 89.67\n",
            "----------------------------------------------------------------\n"
          ]
        }
      ]
    },
    {
      "cell_type": "code",
      "metadata": {
        "id": "2VwEjNs3ufBO",
        "colab": {
          "base_uri": "https://localhost:8080/",
          "height": 0
        },
        "outputId": "213fcb60-ed2a-4399-97a9-c2abece81e07"
      },
      "source": [
        "train_loss = []\n",
        "valid_loss = []\n",
        "for epoch in range(50):  # loop over the dataset multiple times\n",
        "\n",
        "    running_loss = 0.0\n",
        "    for i, data in enumerate(train_loader, 0):\n",
        "        # get the inputs; data is a list of [inputs, labels]\n",
        "        inputs, labels = data\n",
        "        inputs = inputs.to(device)\n",
        "        labels = labels.to(device)\n",
        "\n",
        "        # zero the parameter gradients\n",
        "        optimizer.zero_grad()\n",
        "        # forward + backward + optimize\n",
        "        outputs = net(inputs)     #pass input data into network to get outputs\n",
        "        loss = criterion(outputs, labels)\n",
        "        loss.backward()  #calculate gradients\n",
        "        optimizer.step() #take gradient descent step\n",
        "\n",
        "           \n",
        "        running_loss += loss.item()\n",
        "        \n",
        "        \n",
        "            \n",
        "    \n",
        "    print(\"E:{}, Train Loss:{}\".format(\n",
        "                epoch+1,\n",
        "                running_loss / num_steps\n",
        "            )\n",
        "        )\n",
        "    train_loss.append(running_loss / num_steps)\n",
        "    \n",
        "                \n",
        "    #validation\n",
        "    correct = 0\n",
        "    total = 0\n",
        "    val_loss = 0.0\n",
        "    with torch.no_grad():\n",
        "        for data in val_loader:\n",
        "            #TODO: load images and labels from validation loader\n",
        "            images, labels = data\n",
        "            images = images.to(device)\n",
        "            labels = labels.to(device)\n",
        "            outputs = net(images) #TODO  #run forward pass\n",
        "            _, predicted = torch.max(outputs.data, 1)\n",
        "            total += labels.size(0)\n",
        "            correct += (predicted == labels).sum().item()\n",
        "                \n",
        "            loss = criterion(outputs, labels)       #calculate validation loss\n",
        "            val_loss += loss.item()\n",
        "    val_loss /=num_steps\n",
        "    print('Accuracy of 10000 val images: {}'.format( correct / total))\n",
        "    print('Val Loss: {}'.format( val_loss))\n",
        "    valid_loss.append(val_loss)\n",
        "print('Finished Training')\n"
      ],
      "execution_count": 12,
      "outputs": [
        {
          "output_type": "stream",
          "name": "stdout",
          "text": [
            "E:1, Train Loss:1.959847365617752\n",
            "Accuracy of 10000 val images: 0.311\n",
            "Val Loss: 0.44030613273382185\n",
            "E:2, Train Loss:1.6758774974942208\n",
            "Accuracy of 10000 val images: 0.3811\n",
            "Val Loss: 0.40872260570526125\n",
            "E:3, Train Loss:1.5257530051469803\n",
            "Accuracy of 10000 val images: 0.4554\n",
            "Val Loss: 0.3672903999686241\n",
            "E:4, Train Loss:1.4228433188796044\n",
            "Accuracy of 10000 val images: 0.4704\n",
            "Val Loss: 0.36005661100149156\n",
            "E:5, Train Loss:1.3332081925868988\n",
            "Accuracy of 10000 val images: 0.5118\n",
            "Val Loss: 0.328680998980999\n",
            "E:6, Train Loss:1.267854163646698\n",
            "Accuracy of 10000 val images: 0.5165\n",
            "Val Loss: 0.3306643870472908\n",
            "E:7, Train Loss:1.2022551642358303\n",
            "Accuracy of 10000 val images: 0.5518\n",
            "Val Loss: 0.3023109436035156\n",
            "E:8, Train Loss:1.1472478939592838\n",
            "Accuracy of 10000 val images: 0.5687\n",
            "Val Loss: 0.2950465168058872\n",
            "E:9, Train Loss:1.1005234199762344\n",
            "Accuracy of 10000 val images: 0.5807\n",
            "Val Loss: 0.2895585677027702\n",
            "E:10, Train Loss:1.059796066135168\n",
            "Accuracy of 10000 val images: 0.5923\n",
            "Val Loss: 0.2826141166687012\n",
            "E:11, Train Loss:1.0147715102136134\n",
            "Accuracy of 10000 val images: 0.6044\n",
            "Val Loss: 0.2733208404481411\n",
            "E:12, Train Loss:0.9774860656261444\n",
            "Accuracy of 10000 val images: 0.5984\n",
            "Val Loss: 0.2753268586099148\n",
            "E:13, Train Loss:0.9490486665070057\n",
            "Accuracy of 10000 val images: 0.623\n",
            "Val Loss: 0.26215340822935107\n",
            "E:14, Train Loss:0.9146589131653309\n",
            "Accuracy of 10000 val images: 0.6399\n",
            "Val Loss: 0.25369121253490445\n",
            "E:15, Train Loss:0.8835105226933956\n",
            "Accuracy of 10000 val images: 0.6381\n",
            "Val Loss: 0.2527464781701565\n",
            "E:16, Train Loss:0.8543277978897095\n",
            "Accuracy of 10000 val images: 0.6538\n",
            "Val Loss: 0.247130429148674\n",
            "E:17, Train Loss:0.8262369841337204\n",
            "Accuracy of 10000 val images: 0.6481\n",
            "Val Loss: 0.2501290075480938\n",
            "E:18, Train Loss:0.7958007255196571\n",
            "Accuracy of 10000 val images: 0.6609\n",
            "Val Loss: 0.24058307752013205\n",
            "E:19, Train Loss:0.7702040066570044\n",
            "Accuracy of 10000 val images: 0.6554\n",
            "Val Loss: 0.24091493666172029\n",
            "E:20, Train Loss:0.7406941792368888\n",
            "Accuracy of 10000 val images: 0.6622\n",
            "Val Loss: 0.2444025082886219\n",
            "E:21, Train Loss:0.7161592834442854\n",
            "Accuracy of 10000 val images: 0.6741\n",
            "Val Loss: 0.23498092770576476\n",
            "E:22, Train Loss:0.6920405691117049\n",
            "Accuracy of 10000 val images: 0.6795\n",
            "Val Loss: 0.23437655508518218\n",
            "E:23, Train Loss:0.6663694109767675\n",
            "Accuracy of 10000 val images: 0.6836\n",
            "Val Loss: 0.23477378964424134\n",
            "E:24, Train Loss:0.6445721201598644\n",
            "Accuracy of 10000 val images: 0.6779\n",
            "Val Loss: 0.23378774046897888\n",
            "E:25, Train Loss:0.6207544350624085\n",
            "Accuracy of 10000 val images: 0.6833\n",
            "Val Loss: 0.23543845534324645\n",
            "E:26, Train Loss:0.5948093309998512\n",
            "Accuracy of 10000 val images: 0.691\n",
            "Val Loss: 0.2273648549616337\n",
            "E:27, Train Loss:0.5705692578852176\n",
            "Accuracy of 10000 val images: 0.6915\n",
            "Val Loss: 0.23299804106354713\n",
            "E:28, Train Loss:0.5519754575937986\n",
            "Accuracy of 10000 val images: 0.6839\n",
            "Val Loss: 0.24007426366209983\n",
            "E:29, Train Loss:0.5314513735473156\n",
            "Accuracy of 10000 val images: 0.6974\n",
            "Val Loss: 0.2272047981619835\n",
            "E:30, Train Loss:0.5062107416242361\n",
            "Accuracy of 10000 val images: 0.6901\n",
            "Val Loss: 0.2405579374730587\n",
            "E:31, Train Loss:0.4823715002089739\n",
            "Accuracy of 10000 val images: 0.6971\n",
            "Val Loss: 0.23734240770339965\n",
            "E:32, Train Loss:0.46942982949316503\n",
            "Accuracy of 10000 val images: 0.6971\n",
            "Val Loss: 0.23969256088137628\n",
            "E:33, Train Loss:0.4503184437379241\n",
            "Accuracy of 10000 val images: 0.6867\n",
            "Val Loss: 0.2500139260292053\n",
            "E:34, Train Loss:0.4277105714380741\n",
            "Accuracy of 10000 val images: 0.6983\n",
            "Val Loss: 0.24896063819527625\n",
            "E:35, Train Loss:0.4070098527520895\n",
            "Accuracy of 10000 val images: 0.6888\n",
            "Val Loss: 0.25651754811406136\n",
            "E:36, Train Loss:0.3858725962787867\n",
            "Accuracy of 10000 val images: 0.6874\n",
            "Val Loss: 0.2647887508571148\n",
            "E:37, Train Loss:0.3790887502208352\n",
            "Accuracy of 10000 val images: 0.6995\n",
            "Val Loss: 0.25286880910396575\n",
            "E:38, Train Loss:0.36115511689335106\n",
            "Accuracy of 10000 val images: 0.6975\n",
            "Val Loss: 0.2522786086797714\n",
            "E:39, Train Loss:0.341777235083282\n",
            "Accuracy of 10000 val images: 0.7057\n",
            "Val Loss: 0.2615488640964031\n",
            "E:40, Train Loss:0.322920104265213\n",
            "Accuracy of 10000 val images: 0.6992\n",
            "Val Loss: 0.26374804601073265\n",
            "E:41, Train Loss:0.3136351635865867\n",
            "Accuracy of 10000 val images: 0.7046\n",
            "Val Loss: 0.26507676392793655\n",
            "E:42, Train Loss:0.3015307359397411\n",
            "Accuracy of 10000 val images: 0.6998\n",
            "Val Loss: 0.2767807437479496\n",
            "E:43, Train Loss:0.28756136951968075\n",
            "Accuracy of 10000 val images: 0.7006\n",
            "Val Loss: 0.27802940890192984\n",
            "E:44, Train Loss:0.27145240919664504\n",
            "Accuracy of 10000 val images: 0.7011\n",
            "Val Loss: 0.2839644806087017\n",
            "E:45, Train Loss:0.2605605389177799\n",
            "Accuracy of 10000 val images: 0.6994\n",
            "Val Loss: 0.289747978746891\n",
            "E:46, Train Loss:0.2533921962790191\n",
            "Accuracy of 10000 val images: 0.7018\n",
            "Val Loss: 0.2853751416504383\n",
            "E:47, Train Loss:0.23925191488116979\n",
            "Accuracy of 10000 val images: 0.7009\n",
            "Val Loss: 0.29559760868549345\n",
            "E:48, Train Loss:0.22837849568575622\n",
            "Accuracy of 10000 val images: 0.7042\n",
            "Val Loss: 0.2870044393837452\n",
            "E:49, Train Loss:0.21832650484517216\n",
            "Accuracy of 10000 val images: 0.6907\n",
            "Val Loss: 0.3077601520717144\n",
            "E:50, Train Loss:0.20941743820905687\n",
            "Accuracy of 10000 val images: 0.7038\n",
            "Val Loss: 0.30824757128953933\n",
            "Finished Training\n"
          ]
        }
      ]
    },
    {
      "cell_type": "code",
      "source": [
        "plt.plot(valid_loss)\n",
        "plt.plot(train_loss)\n",
        "plt.legend(['valid_loss', 'train_loss'])\n",
        "plt.xlabel('Epochs')\n",
        "plt.ylabel('Loss')\n",
        "plt.title('Learning Rate : 0.0001')\n",
        "plt.show()"
      ],
      "metadata": {
        "id": "3b5xecnpKk_2",
        "colab": {
          "base_uri": "https://localhost:8080/",
          "height": 295
        },
        "outputId": "740908d4-aa2f-494e-98e5-9681fe43f7bd"
      },
      "execution_count": 13,
      "outputs": [
        {
          "output_type": "display_data",
          "data": {
            "image/png": "[encoded data removed]",
            "text/plain": [
              "<Figure size 432x288 with 1 Axes>"
            ]
          },
          "metadata": {
            "needs_background": "light"
          }
        }
      ]
    },
    {
      "cell_type": "code",
      "source": [
        "plt.plot(valid_loss)\n",
        "plt.plot(train_loss)\n",
        "plt.legend(['valid_loss', 'train_loss'])\n",
        "plt.xlabel('Epochs')\n",
        "plt.ylabel('Loss')\n",
        "plt.title('Learning Rate : 0.0009')\n",
        "plt.show()"
      ],
      "metadata": {
        "colab": {
          "base_uri": "https://localhost:8080/",
          "height": 295
        },
        "id": "j9jn1USFHb-K",
        "outputId": "6283920f-e760-4738-d051-a10562e8f5c4"
      },
      "execution_count": null,
      "outputs": [
        {
          "output_type": "display_data",
          "data": {
            "image/png": "[encoded data removed]",
            "text/plain": [
              "<Figure size 432x288 with 1 Axes>"
            ]
          },
          "metadata": {
            "needs_background": "light"
          }
        }
      ]
    },
    {
      "cell_type": "code",
      "source": [
        "plt.plot(valid_loss)\n",
        "plt.plot(train_loss)\n",
        "plt.legend(['valid_loss', 'train_loss'])\n",
        "plt.xlabel('Epochs')\n",
        "plt.ylabel('Loss')\n",
        "plt.show()"
      ],
      "metadata": {
        "colab": {
          "base_uri": "https://localhost:8080/",
          "height": 279
        },
        "id": "fcmGRc2ESxiW",
        "outputId": "29b9adb1-a0ca-4d80-d6bc-8afb360f277a"
      },
      "execution_count": null,
      "outputs": [
        {
          "output_type": "display_data",
          "data": {
            "image/png": "[encoded data removed]",
            "text/plain": [
              "<Figure size 432x288 with 1 Axes>"
            ]
          },
          "metadata": {
            "needs_background": "light"
          }
        }
      ]
    },
    {
      "cell_type": "markdown",
      "metadata": {
        "id": "9sKf8Lu-mGYd"
      },
      "source": [
        "## 4. If we train for more epochs, our accuracy/performance will increase. What happens if we train for too long though? What method can be employed to mitigate this?\n",
        "\n",
        "We can cause overfitting if we train for too long. To mitigate this issue we should monitor the training and validation error. The point at which validation error starts increasing should mark our end of training.\n",
        "\n",
        "## 5. Try increasing learning rate and look at the metrics for training and validation data? What do you notice? Why do think this is happening?\n",
        "Increasing the learning rate causes more oscillations in the loss curve. Comparing the plots with learning rate(lr) 0.0009 and 0.0001 it is evident. Also, the validation error starts increasing around 25th epoch for 0.0009 trend as opposed to ~40 epochs with lr as 0.0001. This is due to teh fact that with a larger lr the loss decreses at ahigher rate to it nears the minima faster. However, with a larger lr the cost-function is unable to reach the absolute minima instead is bouncing back and forth hence the zagged trend.\n"
      ]
    },
    {
      "cell_type": "markdown",
      "metadata": {
        "id": "Lz31Vm2XmM7p"
      },
      "source": [
        "We can see the performance on the testing set now. "
      ]
    },
    {
      "cell_type": "code",
      "source": [
        "correct = 0\n",
        "total = 0\n",
        "with torch.no_grad():\n",
        "    for data in test_loader:\n",
        "        images, labels = data\n",
        "        images = images.to(device)\n",
        "        labels = labels.to(device)\n",
        "        outputs = net(images)\n",
        "        _, predicted = torch.max(outputs.data, 1)\n",
        "        total += labels.size(0)\n",
        "        correct += (predicted == labels).sum().item()\n",
        "\n",
        "print('Accuracy of 10000 test images: {}'.format( correct / total))"
      ],
      "metadata": {
        "colab": {
          "base_uri": "https://localhost:8080/",
          "height": 0
        },
        "id": "hpo6rfuLcxMz",
        "outputId": "e31cf174-57f3-46f5-80c4-b90d2a5d171c"
      },
      "execution_count": 16,
      "outputs": [
        {
          "output_type": "stream",
          "name": "stdout",
          "text": [
            "Accuracy of 10000 test images: 0.7022\n"
          ]
        }
      ]
    }
  ]
}