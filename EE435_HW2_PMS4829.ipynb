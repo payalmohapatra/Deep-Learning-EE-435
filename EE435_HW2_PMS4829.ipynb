{
  "nbformat": 4,
  "nbformat_minor": 0,
  "metadata": {
    "colab": {
      "name": "EE435_HW2_PMS4829.ipynb",
      "provenance": [],
      "collapsed_sections": [],
      "authorship_tag": "ABX9TyO91KXddOfPRpER/d0YOaG2",
      "include_colab_link": true
    },
    "kernelspec": {
      "name": "python3",
      "display_name": "Python 3"
    },
    "language_info": {
      "name": "python"
    }
  },
  "cells": [
    {
      "cell_type": "markdown",
      "metadata": {
        "id": "view-in-github",
        "colab_type": "text"
      },
      "source": [
        "<a href=\"https://colab.research.google.com/github/payalmohapatra/Deep-Learning-EE-435/blob/main/EE435_HW2_PMS4829.ipynb\" target=\"_parent\"><img src=\"https://colab.research.google.com/assets/colab-badge.svg\" alt=\"Open In Colab\"/></a>"
      ]
    },
    {
      "cell_type": "markdown",
      "source": [
        "*Contact : PayalMohapatra2026@u.northwestern.edu\n",
        "Sources :\n",
        "https://github.com/jermwatt/machine_learning_refined/tree/gh-pages/mlrefined_libraries*"
      ],
      "metadata": {
        "id": "KBO1Fb53gnyw"
      }
    },
    {
      "cell_type": "markdown",
      "source": [
        "# General Code \n",
        "Input files, common functions etc.\n"
      ],
      "metadata": {
        "id": "IygGKENzNsDV"
      }
    },
    {
      "cell_type": "code",
      "source": [
        "from google.colab import files\n",
        "uploaded = files.upload()\n"
      ],
      "metadata": {
        "colab": {
          "resources": {
            "http://localhost:8080/nbextensions/google.colab/files.js": {
              "data": "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",
              "ok": true,
              "headers": [
                [
                  "content-type",
                  "application/javascript"
                ]
              ],
              "status": 200,
              "status_text": ""
            }
          },
          "base_uri": "https://localhost:8080/",
          "height": 108
        },
        "id": "iwvYzm_VMK5j",
        "outputId": "263b8660-9936-49cf-9344-6cc675e8e4b3"
      },
      "execution_count": null,
      "outputs": [
        {
          "output_type": "display_data",
          "data": {
            "text/html": [
              "\n",
              "     <input type=\"file\" id=\"files-883033b2-20f9-48fb-87fb-06202fa94d8c\" name=\"files[]\" multiple disabled\n",
              "        style=\"border:none\" />\n",
              "     <output id=\"result-883033b2-20f9-48fb-87fb-06202fa94d8c\">\n",
              "      Upload widget is only available when the cell has been executed in the\n",
              "      current browser session. Please rerun this cell to enable.\n",
              "      </output>\n",
              "      <script src=\"/nbextensions/google.colab/files.js\"></script> "
            ],
            "text/plain": [
              "<IPython.core.display.HTML object>"
            ]
          },
          "metadata": {}
        },
        {
          "output_type": "stream",
          "name": "stdout",
          "text": [
            "Saving 2_eggs.csv to 2_eggs (1).csv\n",
            "Saving 3_layercake_data.csv to 3_layercake_data (1).csv\n",
            "Saving optimizers_only.py to optimizers_only.py\n"
          ]
        }
      ]
    },
    {
      "cell_type": "markdown",
      "source": [
        "# Q.13.1\n",
        "13.1 Two-class classification with neural networks\n",
        "Repeat the two-class classification experiment described in Example 13.4 begin\u0002ning with the implementation outlined in Section 13.2.6. You need notreproduce\n",
        "the result shown in the top row of Figure 13.9, but can verify your result via\n",
        "checking that you can achieve perfect classification of the data."
      ],
      "metadata": {
        "id": "qz54BNYUJrnq"
      }
    },
    {
      "cell_type": "code",
      "source": [
        "from numpy.core.fromnumeric import argmax\n",
        "import autograd.numpy as np\n",
        "import matplotlib.pyplot as plt\n",
        "from scipy.stats import mode\n",
        "from skimage import exposure\n",
        "from sklearn.datasets import fetch_openml\n",
        "from optimizers_only import gradient_descent_nn\n",
        "from optimizers_only import gradient_descent\n",
        "data = np.loadtxt('2_eggs.csv', delimiter=',')\n",
        "x = data[:2,:]\n",
        "y = data[2,:][np.newaxis,:]\n",
        "\n",
        "np.random.seed(27)\n",
        "print(np.shape(x))\n",
        "print(np.shape(y))\n",
        "# neural network feature transformation\n",
        "def feature_transforms(a, w):\n",
        "    # loop through each layer\n",
        "    for W in w:\n",
        "        # compute inner -product with current layer weights\n",
        "        a = W[0] + np. dot(a.T , W[1:])\n",
        "        # pass through activation\n",
        "        a = np.tanh(a). T\n",
        "    return a\n",
        "\n",
        "# neural network model\n",
        "def model(theta):\n",
        "    # compute feature transformation\n",
        "    f = feature_transforms(x, theta[0])\n",
        "    # compute final linear combination\n",
        "    a = theta[1][0] + np. dot(f.T, theta [1][1:])\n",
        "    return a.T\n",
        "\n",
        "# create initial weights for a neural network model\n",
        "def network_initializer(layer_sizes, scale):\n",
        "    # container for all tunable weights\n",
        "    weights = []\n",
        "    # create appropriately -sized initial\n",
        "    # weight matrix for each layer of network\n",
        "    for k in range(len(layer_sizes) -1):\n",
        "        # get layer sizes for current weight matrix\n",
        "        U_k = layer_sizes[k]\n",
        "        U_k_plus_1 = layer_sizes[k +1]\n",
        "        # make weight matrix\n",
        "        weight = scale* np. random. randn(U_k+ 1, U_k_plus_1)\n",
        "        weights. append(weight)\n",
        "\n",
        "    # repackage weights so that theta_init[0] contains all\n",
        "    # weight matrices internal to the network, and theta_init[1]\n",
        "    # contains final linear combination weights\n",
        "    theta_init = [weights[:-1], weights[-1]]\n",
        "\n",
        "    return theta_init\n",
        "\n",
        "   \n",
        "lambda_reg = 0\n",
        "def softmax_func(w) :\n",
        "    cost = 0\n",
        "    y_pred = model(w)\n",
        "    #y_pred = y_pred._value\n",
        "    for p in range(y.size):\n",
        "       # get pth prediction/ output pair\n",
        "       y_p = y[:,p]\n",
        "       y_model = y_pred[:,p]\n",
        "       ## add to current cost\n",
        "       cost += np.log(1 + np .exp(-np.dot(y_p,y_model)))\n",
        "    return cost/ float(np.size(y))\n",
        "    \n",
        "  \n",
        "# Initialise as per Example 13.4 from text\n",
        "layer_sizes = [np.shape(x)[0],10,10,10,10,1]\n",
        "w_init = network_initializer(layer_sizes,1.0)\n",
        "max_its = 2000\n",
        "alpha_choice = 0.1\n",
        "weight_history,cost_history = gradient_descent_nn(softmax_func,alpha_choice,max_its,w_init)\n",
        "plt.plot(cost_history)\n",
        "plt.title('Cost history vs Iteration')\n",
        "plt.xlabel('Iteration')\n",
        "plt.ylabel('Cost')\n",
        "plt.figure()\n",
        "\n",
        "misclassification = np.zeros((np.size(cost_history),1))\n",
        "for i in range(np.size(cost_history)):\n",
        "    pred = model(weight_history[i])\n",
        "    # print('size of ')\n",
        "    for j in range(np.size(pred)):\n",
        "        if pred[0,j] > 0.0:\n",
        "            pred[0,j] = 1.0\n",
        "        else:\n",
        "            pred[0,j] = -1.0\n",
        "   \n",
        "    pred = (pred == y)\n",
        "    misclassification[i] = np.size(y) - np.sum(pred)\n",
        "plt.plot(misclassification)\n",
        "plt.title('Missclassification history vs Iteration')\n",
        "plt.xlabel('Iteration')\n",
        "plt.ylabel('Number of missclassifications')\n",
        "plt.show()\n",
        "\n",
        "print('Number of misclassifications at the final iteration is', misclassification[-1])"
      ],
      "metadata": {
        "colab": {
          "base_uri": "https://localhost:8080/",
          "height": 591
        },
        "id": "WgSyXbK7KxYQ",
        "outputId": "94a2b885-0bde-42cc-c0fb-af03d1572d51"
      },
      "execution_count": null,
      "outputs": [
        {
          "output_type": "display_data",
          "data": {
            "image/png": "[encoded data removed]",
            "text/plain": [
              "<Figure size 432x288 with 1 Axes>"
            ]
          },
          "metadata": {
            "needs_background": "light"
          }
        },
        {
          "output_type": "display_data",
          "data": {
            "image/png": "[encoded data removed]",
            "text/plain": [
              "<Figure size 432x288 with 1 Axes>"
            ]
          },
          "metadata": {
            "needs_background": "light"
          }
        },
        {
          "output_type": "stream",
          "name": "stdout",
          "text": [
            "Number of misclassifications at the final iteration is [0.]\n"
          ]
        }
      ]
    },
    {
      "cell_type": "markdown",
      "source": [
        "# Q.13.2\n",
        "\n",
        "Multi-class classification with neural networks\n",
        "Repeat the multi-class classification experiment described in Example 13.4 be\u0002ginning with the implementation outlined in Section 13.2.6. You need not re\u0002produce the result shown in the bottom row of Figure 13.9, but can verify your\n",
        "result via checking that you can achieve perfect classification of the data.\n"
      ],
      "metadata": {
        "id": "wNg_vqW0OR_3"
      }
    },
    {
      "cell_type": "code",
      "source": [
        "data = np.loadtxt('3_layercake_data.csv', delimiter=',')\n",
        "x = data[:2,:]\n",
        "y = data[2,:][np.newaxis,:]\n",
        "y_int = y.astype(int).T\n",
        "\n",
        "print('Size of input is:', np.shape(x))\n",
        "print('Size of output is:', np.shape(y))\n",
        "\n",
        "\n",
        "# create initial weights for a neural network model\n",
        "def network_initializer(layer_sizes, scale):\n",
        "    # container for all tunable weights\n",
        "    weights = []\n",
        "    # create appropriately -sized initial\n",
        "    # weight matrix for each layer of network\n",
        "    for k in range(len(layer_sizes) -1):\n",
        "\n",
        "        # get layer sizes for current weight matrix\n",
        "        U_k = layer_sizes[k]\n",
        "        U_k_plus_1 = layer_sizes[k +1]\n",
        "\n",
        "        # make weight matrix\n",
        "        weight = scale* np. random. randn(U_k+ 1, U_k_plus_1)\n",
        "        weights. append(weight)\n",
        "\n",
        "        # repackage weights so that theta_init[0] contains all\n",
        "        # weight matrices internal to the network, and theta_init[1]\n",
        "        # contains final linear combination weights\n",
        "        theta_init = [weights[:-1], weights[-1]]\n",
        "\n",
        "    return theta_init\n",
        "\n",
        "N = np.shape(x)[0] \n",
        "U_1 = 12\n",
        "U_L = 5\n",
        "C = 3  ## if C is > 0 it is +1 class and if it is < 0 then -1 class\n",
        "layer_sizes = [N, U_1, U_L, C]\n",
        "scale = -1\n",
        "\n",
        "theta_init = network_initializer(layer_sizes, scale)\n",
        "# print('Shape of theta_init is:', np.shape(theta_init))\n",
        "\n",
        "def multisoftmax(w):\n",
        "    cost = 0\n",
        "    y_model = model(w)\n",
        "    index = np.array([range(np.size(y))]).T\n",
        "    exp_a = np.reshape(np.log(np.sum(np.exp(y_model), axis=1)), (np.size(y),1)) - y_model[index,y_int]\n",
        "\n",
        "    cost = np.sum(exp_a)    \n",
        " \n",
        "    return cost/float(np.size(y))\n",
        "\n",
        "# # neural network feature transformation\n",
        "def feature_transforms(a, w):\n",
        "    # loop through each layer\n",
        "    for W in w:\n",
        "\n",
        "    # compute inner -product with current layer weights\n",
        "        a = W[0] + np. dot(a.T , W[1:])\n",
        "        # pass through activation\n",
        "        a = np.tanh(a). T\n",
        "\n",
        "    return a\n",
        "\n",
        "# neural network model\n",
        "def model(theta):\n",
        "    # compute feature transformation\n",
        "    f = feature_transforms(x, theta[0])\n",
        "\n",
        "    # compute final linear combination\n",
        "    a = theta[1][0] + np. dot(f.T, theta [1][1:])\n",
        "    #cost = multisoftmax(a)\n",
        "    \n",
        "    return a\n",
        "\n",
        "\n",
        "max_its = 40000\n",
        "alpha_choice = 0.1\n",
        "weight_history,cost_history = gradient_descent_nn(multisoftmax,alpha_choice,max_its,theta_init)\n",
        "\n",
        "\n",
        "\n",
        "misclassification = np.zeros((np.size(cost_history),1))\n",
        "# for i in range(1):\n",
        "for i in range(np.size(cost_history)):\n",
        "    pred = model(weight_history[i]).T\n",
        "    pred = np.reshape(np.argmax(pred, axis=0), (1,np.size(y)))\n",
        "    pred = (pred == y)\n",
        "    misclassification[i] = np.size(y) - np.sum(pred)\n",
        "\n",
        "# print(misclassification)\n",
        "print('At the end of the analysis, the # of misclassifications are:', misclassification[-1])\n",
        "# print('End weight is:', weight_history[-1])\n",
        "plt.figure(1)\n",
        "plt.plot(cost_history)\n",
        "plt.title('Cost history vs Iteration')\n",
        "plt.xlabel('Iteration')\n",
        "plt.ylabel('Cost')\n",
        "\n",
        "plt.figure(2)\n",
        "plt.plot(misclassification)\n",
        "plt.title('Missclassification history vs Iteration')\n",
        "plt.xlabel('Iteration')\n",
        "plt.ylabel('Number of missclassifications')\n",
        "plt.show()\n",
        "\n",
        "plt.show()"
      ],
      "metadata": {
        "colab": {
          "base_uri": "https://localhost:8080/",
          "height": 625
        },
        "id": "plyQxjfuPAPW",
        "outputId": "4d9306b4-cf26-4c61-f1c8-9f4a4e5ae7cd"
      },
      "execution_count": 22,
      "outputs": [
        {
          "output_type": "stream",
          "name": "stdout",
          "text": [
            "Size of input is: (2, 110)\n",
            "Size of output is: (1, 110)\n",
            "At the end of the analysis, the # of misclassifications are: [0.]\n"
          ]
        },
        {
          "output_type": "display_data",
          "data": {
            "image/png": "[encoded data removed]",
            "text/plain": [
              "<Figure size 432x288 with 1 Axes>"
            ]
          },
          "metadata": {
            "needs_background": "light"
          }
        },
        {
          "output_type": "display_data",
          "data": {
            "image/png": "[encoded data removed]",
            "text/plain": [
              "<Figure size 432x288 with 1 Axes>"
            ]
          },
          "metadata": {
            "needs_background": "light"
          }
        }
      ]
    },
    {
      "cell_type": "markdown",
      "source": [
        "# Q.13.3\n",
        "\n",
        "Number of weights to learn in a neural network\n",
        "(a) Find the total number Q of tunable parameters in a general L-hidden-layer\n",
        "neural network, in terms of variables expressed in the *layer size*s list in Section\n",
        "13.2.6. (b) Based on your answer in part (a), explain how the input dimension N and\n",
        "number of data points P each contributes to Q. How is this different from what\n",
        "you saw with kernel methods in the previous chapter?"
      ],
      "metadata": {
        "id": "926LCD0XPJx_"
      }
    },
    {
      "cell_type": "markdown",
      "source": [
        "Solution :\n",
        "(a) The *layer size* refered in the question is as follows :<br />\n",
        "\n",
        "*layer_sizes = [N, U_1, ..., U_L, C]*\n",
        "The number of tunable parameters in this case ***Q***, is approximately (since bias term needs to be accounted for) product of all the elements in the array *layer_sizes* except the last term ***C***.\n",
        "For example, for the first layer the number of inputs (N) multiplied by the number of hidden units and bias (U_1 +1). So the final number of tunable parameters is given by:<br />\n",
        "*$$Q = N*\\prod_{i=1}^L(U_k +1)$$*\n",
        "\n",
        "\n",
        "\n",
        "---\n",
        "\n",
        "(b) The input dimension N plays a role in determining the number of tunable parameters in this case, however, the dataset size does not play any role. In the case of kernel methods there are scaling issues with the input dimension which can be overcome by the *kernelisation trick*. Although, it introduces a new dependency on the dataset size now.\n",
        "\n"
      ],
      "metadata": {
        "id": "i8e_c35EUY40"
      }
    }
  ]
}